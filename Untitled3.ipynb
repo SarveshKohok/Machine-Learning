{
 "cells": [
  {
   "cell_type": "code",
   "execution_count": 22,
   "id": "cb59629a",
   "metadata": {},
   "outputs": [
    {
     "name": "stdout",
     "output_type": "stream",
     "text": [
      "Accuracy on test set: 100.0%\n",
      "The predicted species for the flower is: setosa\n"
     ]
    }
   ],
   "source": [
    "from sklearn.datasets import load_iris\n",
    "from sklearn.model_selection import train_test_split\n",
    "from sklearn.discriminant_analysis import LinearDiscriminantAnalysis\n",
    "from sklearn.metrics import accuracy_score\n",
    "\n",
    "# Load iris dataset\n",
    "iris = load_iris()\n",
    "X = iris.data        # Features: sepal length, sepal width, petal length, petal width\n",
    "y = iris.target      # Species labels (0, 1, 2)\n",
    "\n",
    "# Split dataset into train and test sets\n",
    "X_train, X_test, y_train, y_test = train_test_split(X, y, test_size=0.3, random_state=42)\n",
    "\n",
    "# Initialize LDA model\n",
    "lda = LinearDiscriminantAnalysis()\n",
    "\n",
    "# Train LDA\n",
    "lda.fit(X_train, y_train)\n",
    "\n",
    "# Predict on test set\n",
    "y_pred = lda.predict(X_test)\n",
    "\n",
    "# Accuracy\n",
    "accuracy = accuracy_score(y_test, y_pred)\n",
    "print(f\"Accuracy on test set: {accuracy*100}%\")\n",
    "\n",
    "\n",
    "# Classify a new flower (example)\n",
    "# Let's say a flower has sepal length=5.0, sepal width=3.4, petal length=1.5, petal width=0.2\n",
    "sample = [[5.0, 3.4, 1.5, 0.2]]\n",
    "predicted_class = lda.predict(sample)\n",
    "predicted_species = iris.target_names[predicted_class[0]]\n",
    "\n",
    "print(f\"The predicted species for the flower is: {predicted_species}\")\n"
   ]
  }
 ],
 "metadata": {
  "kernelspec": {
   "display_name": "Python 3 (ipykernel)",
   "language": "python",
   "name": "python3"
  },
  "language_info": {
   "codemirror_mode": {
    "name": "ipython",
    "version": 3
   },
   "file_extension": ".py",
   "mimetype": "text/x-python",
   "name": "python",
   "nbconvert_exporter": "python",
   "pygments_lexer": "ipython3",
   "version": "3.10.9"
  }
 },
 "nbformat": 4,
 "nbformat_minor": 5
}
